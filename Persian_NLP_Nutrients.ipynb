{
 "nbformat": 4,
 "nbformat_minor": 0,
 "metadata": {
  "colab": {
   "provenance": [],
   "gpuType": "T4"
  },
  "kernelspec": {
   "name": "python3",
   "display_name": "Python 3 (ipykernel)",
   "language": "python"
  },
  "language_info": {
   "name": "python"
  }
 },
 "cells": [
  {
   "metadata": {
    "id": "T50h_ArvJ3Ia",
    "ExecuteTime": {
     "end_time": "2025-02-06T09:49:47.033228Z",
     "start_time": "2025-02-06T09:49:20.202563Z"
    }
   },
   "cell_type": "code",
   "source": [
    "import numpy as np\n",
    "import pandas as pd\n",
    "from hazm import stopwords_list, Normalizer, WordTokenizer, SentenceTokenizer, Stemmer, Lemmatizer, sent_tokenize, word_tokenize\n",
    "import docx\n",
    "import re\n",
    "from sklearn.feature_extraction.text import TfidfVectorizer\n",
    "import requests\n",
    "from sklearn.metrics.pairwise import cosine_similarity\n",
    "from rake_nltk import Rake"
   ],
   "outputs": [],
   "execution_count": 2
  },
  {
   "cell_type": "code",
   "source": [
    "class PersianRAKE(Rake):\n",
    "    def _tokenize_text_to_sentences(self, text: str):\n",
    "        return sent_tokenize(text)\n",
    "\n",
    "    def _tokenize_sentence_to_words(self, sentence: str):\n",
    "        return word_tokenize(sentence)"
   ],
   "metadata": {
    "id": "waRPUyQUJ5jJ",
    "ExecuteTime": {
     "end_time": "2025-02-06T09:50:59.104681Z",
     "start_time": "2025-02-06T09:50:59.073433Z"
    }
   },
   "outputs": [],
   "execution_count": 3
  },
  {
   "cell_type": "code",
   "source": [
    "def read_from_docx(doc):\n",
    "    fullText=''\n",
    "    for pra in doc.paragraphs:\n",
    "        fullText+=pra.text+' '\n",
    "\n",
    "    return fullText\n",
    "\n",
    "def split_into_overlapping_chunks(sentences, max_chunk_size=1000, overlap_size=200):\n",
    "    chunks = []\n",
    "    current_chunk = \"\"\n",
    "    current_chunk_size = 0\n",
    "\n",
    "    for sentence in sentences:\n",
    "        sentence_length = len(sentence)\n",
    "\n",
    "        if current_chunk_size + sentence_length > max_chunk_size and current_chunk:\n",
    "            chunks.append(current_chunk.strip())\n",
    "\n",
    "            overlap_buffer = current_chunk[-overlap_size:].strip() if current_chunk else \"\"\n",
    "            current_chunk = overlap_buffer + \" \"\n",
    "            current_chunk_size = len(overlap_buffer) + 1\n",
    "\n",
    "        current_chunk += sentence + \" \"\n",
    "        current_chunk_size += sentence_length + 1\n",
    "\n",
    "    if current_chunk:\n",
    "        chunks.append(current_chunk.strip())\n",
    "\n",
    "    return chunks\n",
    "\n",
    "def preprocess_text_1(text):\n",
    "    # text = text.lower()\n",
    "    text = re.sub(r'[^\\w\\s]', '', text)\n",
    "    text = re.sub(r'( +)', ' ', str(text))\n",
    "    return text\n",
    "\n",
    "\n",
    "def preprocess_text_2(text):\n",
    "    text = re.sub('(\\(.*?\\))|(\\[.*?\\])', '', str(text))\n",
    "    text = re.sub(r'( +)', ' ', str(text))\n",
    "\n",
    "    word_tokenizer = WordTokenizer()\n",
    "    words = word_tokenizer.tokenize(text)\n",
    "\n",
    "    stopwords = stopwords_list()\n",
    "    filtered_words = [word for word in words if word not in stopwords]\n",
    "\n",
    "    lemmatizer = Lemmatizer()\n",
    "    lemmatized_words = [lemmatizer.lemmatize(word) for word in filtered_words]\n",
    "\n",
    "    return ' '.join(lemmatized_words)\n",
    "\n",
    "\n",
    "def check_spelling(main_text):\n",
    "    endpoint = \"https://api.languagetool.org/v2/check\"\n",
    "\n",
    "    data = {\n",
    "        \"text\": main_text,\n",
    "        \"language\": \"en-US\",\n",
    "    }\n",
    "\n",
    "    response = requests.post(endpoint, data=data)\n",
    "    json_response = response.json()\n",
    "\n",
    "    updated_text = main_text\n",
    "\n",
    "    for match in json_response.get(\"matches\", []):\n",
    "        replacement = match[\"replacements\"][0][\"value\"] if match[\"replacements\"] else \"\"\n",
    "\n",
    "        offset = match[\"offset\"]\n",
    "        length = match[\"length\"]\n",
    "\n",
    "        updated_text = updated_text.replace(main_text[offset:offset+length], replacement)\n",
    "\n",
    "    print(\"Original query: \", main_text)\n",
    "    print(\"Corrected query: \", updated_text)\n",
    "    return updated_text\n",
    "\n",
    "\n",
    "def extract_key_phrases(query, max_phrases, lang=\"persian\"):\n",
    "    persian_stopwords = stopwords_list()\n",
    "    r = PersianRAKE(\n",
    "        stopwords=persian_stopwords,\n",
    "        max_length= 5\n",
    "    )\n",
    "\n",
    "    r.extract_keywords_from_text(query)\n",
    "    phrases = r.get_ranked_phrases()\n",
    "\n",
    "    print(\"Key phrases:\", phrases[:2])\n",
    "\n",
    "    multi_word_phrases = [p for p in phrases if len(p.split()) > 1]\n",
    "\n",
    "    return multi_word_phrases[:max_phrases]\n",
    "\n",
    "def phrase_search(query, documents):\n",
    "    phrase = query.strip()\n",
    "    matched_docs = []\n",
    "\n",
    "    for idx, doc in documents.iterrows():\n",
    "        if phrase in doc['preprocessed_text']:\n",
    "            matched_docs.append(idx)\n",
    "\n",
    "    return matched_docs"
   ],
   "metadata": {
    "id": "pDf4OEtAJ7n5",
    "ExecuteTime": {
     "end_time": "2025-02-06T09:51:01.174365Z",
     "start_time": "2025-02-06T09:51:01.120870Z"
    }
   },
   "outputs": [],
   "execution_count": 4
  },
  {
   "cell_type": "code",
   "source": [
    "# Loading the main document\n",
    "document = read_from_docx(docx.Document(\"nutrients.docx\"))"
   ],
   "metadata": {
    "colab": {
     "base_uri": "https://localhost:8080/"
    },
    "id": "W91Qf-pzKAOC",
    "outputId": "1a020f08-6bf1-4994-b5c0-fd821f89402e",
    "ExecuteTime": {
     "end_time": "2025-02-06T09:51:07.284219Z",
     "start_time": "2025-02-06T09:51:06.657659Z"
    }
   },
   "outputs": [],
   "execution_count": 5
  },
  {
   "cell_type": "code",
   "source": [
    "# Chunking The Document\n",
    "normalizer = Normalizer()\n",
    "normalized_text = normalizer.normalize(document)\n",
    "\n",
    "sentence_tokenizer = SentenceTokenizer()\n",
    "sentences = sentence_tokenizer.tokenize(normalized_text)\n",
    "\n",
    "max_chunk_size = 1000\n",
    "overlap_size = 200\n",
    "chunks = split_into_overlapping_chunks(sentences, max_chunk_size, overlap_size)\n",
    "print(\"<Chunk 1>\")\n",
    "print(f\"Original Chunk:\\n{chunks[0]}\")\n",
    "\n",
    "# Preprocessing The Chunks\n",
    "preprocessed1_chunks = [preprocess_text_1(chunk) for chunk in chunks]\n",
    "\n",
    "preprocessed2_chunks = [preprocess_text_2(chunk) for chunk in preprocessed1_chunks]\n",
    "print(f\"Preprocessed Chunk:\\n{chunks[0]}\")"
   ],
   "metadata": {
    "id": "cNTikfkxKCzB",
    "ExecuteTime": {
     "end_time": "2025-02-06T09:52:54.306048Z",
     "start_time": "2025-02-06T09:51:08.866097Z"
    }
   },
   "outputs": [
    {
     "name": "stdout",
     "output_type": "stream",
     "text": [
      "<Chunk 1>\n",
      "Original Chunk:\n",
      "تغذیه علمی است که در آن اثر متقابل مواد مغذی و هر آنچه در غذا یافت می‌شود را در رابطه با حفظ، رشد، تولید و سلامت ارگان‌های بدن مورد تفسیر قرار می‌دهد. این علم شامل بررسی دریافت مواد غذایی، جذب، ادغام، تولید ترکیبات توسط موجودات زنده، دگرگونی و ترشح می‌شود. رژیم غذایی یک ارگانیسم متشکل است از هر آنچه که دریافت می‌کند و به طور گسترده‌ای تحت تاثیر میزان دسترسی و دلپذیری آن ماده غذایی قرار دارد. برای انسان‌ها یک رژیم سالم شامل مراحل تهیه و روش‌های نگهداری غذا جهت جلوگیری از اکسیداسیون، حرارت و از بین رفتن مواد مغذی و همچنین به حداقل رساندن مسمومیت غذایی می‌باشد. یک تغذیه ناسالم باعث ایجاد بیماری‌های مختلف می‌شود. کمبود برخی مواد مغذی به بیماری‌های مانند کوری، کم خونی، اسکوربوت، تولد نوزاد نارس، مرگ جنین، کرتنیسم یا دریافت مازاد برخی مواد مغذی به بیماری‌هایی چون چاقی، سندروم متابولیک، بیماری‌های قلبی و عروقی، دیابت و استئوپروز منجر می‌شوند.\n",
      "Preprocessed Chunk:\n",
      "تغذیه علمی است که در آن اثر متقابل مواد مغذی و هر آنچه در غذا یافت می‌شود را در رابطه با حفظ، رشد، تولید و سلامت ارگان‌های بدن مورد تفسیر قرار می‌دهد. این علم شامل بررسی دریافت مواد غذایی، جذب، ادغام، تولید ترکیبات توسط موجودات زنده، دگرگونی و ترشح می‌شود. رژیم غذایی یک ارگانیسم متشکل است از هر آنچه که دریافت می‌کند و به طور گسترده‌ای تحت تاثیر میزان دسترسی و دلپذیری آن ماده غذایی قرار دارد. برای انسان‌ها یک رژیم سالم شامل مراحل تهیه و روش‌های نگهداری غذا جهت جلوگیری از اکسیداسیون، حرارت و از بین رفتن مواد مغذی و همچنین به حداقل رساندن مسمومیت غذایی می‌باشد. یک تغذیه ناسالم باعث ایجاد بیماری‌های مختلف می‌شود. کمبود برخی مواد مغذی به بیماری‌های مانند کوری، کم خونی، اسکوربوت، تولد نوزاد نارس، مرگ جنین، کرتنیسم یا دریافت مازاد برخی مواد مغذی به بیماری‌هایی چون چاقی، سندروم متابولیک، بیماری‌های قلبی و عروقی، دیابت و استئوپروز منجر می‌شوند.\n"
     ]
    }
   ],
   "execution_count": 6
  },
  {
   "cell_type": "code",
   "source": [
    "query = \"چند درصد از بدن پروتئین است؟\"\n",
    "query = check_spelling(query)\n",
    "target_phrases = extract_key_phrases(query, max_phrases=2)\n",
    "\n",
    "processed_query = preprocess_text_2(preprocess_text_1(query))"
   ],
   "metadata": {
    "colab": {
     "base_uri": "https://localhost:8080/"
    },
    "id": "w-Usi10yKE-a",
    "outputId": "f8999228-7df9-4a08-a4ea-227384454766",
    "ExecuteTime": {
     "end_time": "2025-02-06T09:53:06.163276Z",
     "start_time": "2025-02-06T09:53:01.732789Z"
    }
   },
   "outputs": [
    {
     "name": "stdout",
     "output_type": "stream",
     "text": [
      "Original query:  چند درصد از بدن پروتئین است؟\n",
      "Corrected query:  چند درصد از بدن پروتئین است؟\n",
      "Key phrases: ['بدن پروتئین', 'درصد']\n"
     ]
    }
   ],
   "execution_count": 7
  },
  {
   "cell_type": "code",
   "source": [
    "vectorizer = TfidfVectorizer(ngram_range=(1, 3))\n",
    "tfidf_matrix = vectorizer.fit_transform(preprocessed2_chunks)\n",
    "query_vector = vectorizer.transform([processed_query])\n",
    "\n",
    "cosine_similarities = cosine_similarity(query_vector, tfidf_matrix)[0]\n",
    "\n",
    "phrase_match_bonus = np.zeros(len(preprocessed1_chunks))\n",
    "for i, chunk in enumerate(preprocessed1_chunks):\n",
    "    for phrase in target_phrases:\n",
    "        if phrase in chunk:\n",
    "            phrase_match_bonus[i] += 1.0\n",
    "\n",
    "hybrid_scores = cosine_similarities + (phrase_match_bonus * 0.5)\n",
    "\n",
    "top_k = 3\n",
    "indices = np.argsort(-hybrid_scores)[:top_k]\n",
    "\n",
    "top_3 = [preprocessed1_chunks[idx] for idx in indices]\n",
    "\n",
    "print(\"Top 3 Hybrid Results:\")\n",
    "for idx, chunk in zip(indices, top_3):\n",
    "    print(f\"Chunk {idx + 1} (Score: {hybrid_scores[idx]:.2f}):\\n{chunk}\")"
   ],
   "metadata": {
    "colab": {
     "base_uri": "https://localhost:8080/"
    },
    "id": "z_hKiO78KIDK",
    "outputId": "9af522c2-7864-4211-c5d3-f17347855e5f",
    "ExecuteTime": {
     "end_time": "2025-02-06T09:53:09.623403Z",
     "start_time": "2025-02-06T09:53:09.514681Z"
    }
   },
   "outputs": [
    {
     "name": "stdout",
     "output_type": "stream",
     "text": [
      "Top 3 Hybrid Results:\n",
      "Chunk 34 (Score: 0.22):\n",
      "چربیها اشاره کنیم که انرژی بدن را تامین میکنند ریزمغذیها نیز به موادی مربوط میشوند که مصرف مقادیر کمی از آنها برای بدن کافی است برای مثال میتوانیم انواع ویتامینها و مواد معدنی را معرفی کنیم در نتیجه ۶ گروه اصلی از درشتمغذیها و ریزمغذیها وجود دارند که برای بدن بسیار ضروری هستند ۱ پروتئین از مهمترین مواد مغذی بدن مصرف پروتئین اهمیت ویژهای دارد و این اهمیت تنها محدود به ورزشکاران نمیشود بلکه پروتئین برای داشتن سلامت بدن ضروری بوده و تمامی افراد باید آن را مصرف کنند در حقیقت پروتئین خشتهای ساختمان بدن است و نقش آن فقط به عضله سازی محدود نمیشود هر سلولی از استخوان تا پوست و مو حاوی پروتئین بوده و برای عملکرد سالم نیاز به مواد دارای پروتئین دارند جالب است بدانید ۱۶ درصد از کل وزن بدن یک فرد معمولی را پروتئین تشکیل میدهد و این درصدی حیرتآور است اساسا پروتئین برای رشد سلامتی و حفظ بدن استفاده میشود ناگفته نماند هورمونهای بدن پادتنها و دیگر مواد مهم بدن از جنس پروتئین هستند\n",
      "Chunk 42 (Score: 0.12):\n",
      "ات اخیر نشان داده است که چربیهای سالم جزئی مهم از یک رژیم غذایی سالم هستند طبق نظریه محققان دانشکدهی پزشکی هاروارد چربیها از مواد مغذی بدن شناخته میشوند و در بسیاری از عملکردها نقش زیادی دارند از این عملکردها میتوانیم به جذب ویتامینها و مواد معدنی انعقاد خون نقش در ساختمان سلولها و حرکت عضلات اشاره کنیم پس این موضوع درست است که چربیها کالری زیادی دارند ولی این کالری منبع انرژی مهمی برای بدن شما است راهنمای رژیم غذایی برای آمریکاییها توصیه میکند ۲۰ تا ۳۵ درصد از کالری مورد نیاز روزانهی خود را باید از چربیها دریافت کنید با این حال سازمان جهانی بهداشت توصیه دارد این درصد در محدودهی کمتر از ۳۰ درصد باید حفظ شود لحاظ کردن چربیهای سالم در برنامهی غذایی میتواند به شما در تنظیم قند خونتان کاهش ریسک بیماریهای قلب دیابت نوع ۲ و ارتقای عملکرد مغز کمک کند همچنین خوب است بدانید آنها ضدالتهابهای قدرتمندی هستند و میتوانند ریسک بروز آرتریت تورم مفاصل سرطان و حتی وقوع آلزایمر را کاهش دهند\n",
      "Chunk 35 (Score: 0.12):\n",
      "ک فرد معمولی را پروتئین تشکیل میدهد و این درصدی حیرتآور است اساسا پروتئین برای رشد سلامتی و حفظ بدن استفاده میشود ناگفته نماند هورمونهای بدن پادتنها و دیگر مواد مهم بدن از جنس پروتئین هستند توجه داشته باشید پروتئین در نقش سوخت بدن استفاده نمیشود مگر در مواقع لازم که بدن نیاز ضروری به آن داشته باشد پروتئینها همچنین از آمینواسیدهای گوناگونی تشکیل شدهاند بدن میتواند برخی از این آمینواسیدها را تولید کند ولی آمینواسیدهای ضروریای نیز وجود دارد که تنها از طریق تغدیه دریافت میشود برای اینکه بدن شما عملکرد مناسبی داشته باشد نیاز به آمینواسیدهای متنوعی خواهید داشت حال خبر خوب این است که الزامی وجود ندارد تا شما همهی آمینواسیدهای مورد نیاز را یک جا دریافت کنید بدن میتواند با بهکارگیری از آمینواسیدهایی که از غذاهای مصرفی در طول روز دریافت کردهاید پروتئینهای کاملی بسازد در ادامه با منابع تامین این ماده مغذی آشنا میشوید برای راهنمایی بیشتر و دریافت اصول تغذیه و رژیم غذایی هم میتوانید کارت اشتراک پایش سلامت سیناکر مدل آنلاین آن را تهیه کنید\n"
     ]
    }
   ],
   "execution_count": 8
  },
  {
   "metadata": {
    "ExecuteTime": {
     "end_time": "2025-02-06T09:53:20.282509Z",
     "start_time": "2025-02-06T09:53:20.235090Z"
    }
   },
   "cell_type": "code",
   "source": [
    "api_keys = pd.DataFrame()\n",
    "api_keys = pd.read_csv('api_key.csv')"
   ],
   "outputs": [],
   "execution_count": 9
  },
  {
   "metadata": {
    "ExecuteTime": {
     "end_time": "2025-02-06T09:57:18.399596Z",
     "start_time": "2025-02-06T09:55:58.087413Z"
    }
   },
   "cell_type": "code",
   "source": [
    "from openai import OpenAI\n",
    "\n",
    "client = OpenAI(\n",
    "  base_url=\"https://openrouter.ai/api/v1\",\n",
    "  api_key=api_keys.loc[0, 'api_key'],\n",
    ")\n",
    "\n",
    "completion = client.chat.completions.create(\n",
    "  extra_headers={\n",
    "  },\n",
    "  model=\"deepseek/deepseek-r1\",\n",
    "  messages=[\n",
    "    {\n",
    "      \"role\": \"user\",\n",
    "      \"content\": f\"سه تا داکیومنت دارم:\\n\\n1. {top_3[0]}\\n\\n2. {top_3[1]}\\n\\n3. {top_3[2]}\\n\\nسوال: {query}\\n\\nبه طور خلاصه(در حد یک پاراگراف) با توجه به داکیومنت ها جواب سوال رو بده و اشاره ای به کلمه داکیومنت نکن\"\n",
    "    }\n",
    "  ]\n",
    ")\n",
    "print(completion.choices[0].message.content)"
   ],
   "outputs": [
    {
     "name": "stdout",
     "output_type": "stream",
     "text": [
      "پروتئین یکی از مواد مغذی اساسی است که حدود ۱۶ درصد از وزن بدن یک فرد معمولی را تشکیل میدهد. این ماده نهتنها در ساختار عضلات، بلکه در تمام سلولها از جمله استخوان، پوست و مو نقش حیاتی ایفا میکند. پروتئینها همچنین اجزای اصلی هورمونها، پادتنها و سایر ترکیبات ضروری بدن هستند. هرچند بدن در شرایط عادی از پروتئین بهعنوان منبع اولیه انرژی استفاده نمیکند، اما در مواقع ضروری میتواند به آن متکی باشد. برای حفظ عملکرد سالم، نیاز به دریافت آمینواسیدهای ضروری از طریق تغذیه وجود دارد که در منابع غذایی مختلف یافت میشوند و بدن قادر است با ترکیب آنها، پروتئینهای کامل موردنیاز خود را تولید کند.\n"
     ]
    }
   ],
   "execution_count": 12
  }
 ]
}
